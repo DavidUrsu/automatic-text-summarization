{
 "cells": [
  {
   "cell_type": "markdown",
   "metadata": {},
   "source": [
    "# Abstrative text summarization using transformers"
   ]
  },
  {
   "cell_type": "code",
   "execution_count": 1,
   "metadata": {},
   "outputs": [],
   "source": [
    "from transformers import pipeline"
   ]
  },
  {
   "cell_type": "code",
   "execution_count": 2,
   "metadata": {},
   "outputs": [
    {
     "name": "stderr",
     "output_type": "stream",
     "text": [
      "Xet Storage is enabled for this repo, but the 'hf_xet' package is not installed. Falling back to regular HTTP download. For better performance, install the package with: `pip install huggingface_hub[hf_xet]` or `pip install hf_xet`\n"
     ]
    },
    {
     "data": {
      "application/vnd.jupyter.widget-view+json": {
       "model_id": "30d99537b75b48f7a7a89a7ac20084e3",
       "version_major": 2,
       "version_minor": 0
      },
      "text/plain": [
       "model.safetensors:   0%|          | 0.00/892M [00:00<?, ?B/s]"
      ]
     },
     "metadata": {},
     "output_type": "display_data"
    },
    {
     "data": {
      "application/vnd.jupyter.widget-view+json": {
       "model_id": "f6f8eac8984e4c6f907bcdc4b18cb837",
       "version_major": 2,
       "version_minor": 0
      },
      "text/plain": [
       "generation_config.json:   0%|          | 0.00/147 [00:00<?, ?B/s]"
      ]
     },
     "metadata": {},
     "output_type": "display_data"
    },
    {
     "data": {
      "application/vnd.jupyter.widget-view+json": {
       "model_id": "c496529c71e34bc2b85c481e1942c786",
       "version_major": 2,
       "version_minor": 0
      },
      "text/plain": [
       "spiece.model:   0%|          | 0.00/792k [00:00<?, ?B/s]"
      ]
     },
     "metadata": {},
     "output_type": "display_data"
    },
    {
     "data": {
      "application/vnd.jupyter.widget-view+json": {
       "model_id": "ca067c7ba90e49779e8deb288987582f",
       "version_major": 2,
       "version_minor": 0
      },
      "text/plain": [
       "tokenizer.json:   0%|          | 0.00/1.39M [00:00<?, ?B/s]"
      ]
     },
     "metadata": {},
     "output_type": "display_data"
    },
    {
     "name": "stderr",
     "output_type": "stream",
     "text": [
      "Device set to use cpu\n"
     ]
    }
   ],
   "source": [
    "summarizer = pipeline(\"summarization\", model=\"t5-base\", tokenizer=\"t5-base\", framework=\"pt\")"
   ]
  },
  {
   "cell_type": "code",
   "execution_count": 3,
   "metadata": {},
   "outputs": [],
   "source": [
    "text = \"\"\"BENGALURU, April 25 (Reuters) - Apple (AAPL.O), opens new tab aims to make most of its iPhones sold in the United States at factories in India by the end of 2026, and is speeding up those plans to navigate potentially higher tariffs in China, its main manufacturing base, a source told Reuters.\n",
    "The U.S. tech giant is holding urgent talks with contract manufacturers Foxconn (2317.TW), opens new tab and Tata to achieve that goal, the person, who declined to be named as the planning process is confidential, said on Friday.\n",
    "Apple and Foxconn did not immediately respond to requests for comment, while Tata declined to comment.\n",
    "Apple sells over 60 million iPhones in the U.S. annually with roughly 80% of them made in China currently.\n",
    "Prime Minister Narendra Modi has in recent years promoted India as a smartphone manufacturing hub, but higher duties on importing mobile phone parts compared to many other countries means it is still expensive for companies to produce in India.\n",
    "For iPhones, manufacturing costs in India are 5-8% higher than in China, with the difference rising to as much as 10% in some cases, the source said.\n",
    "Apple has already stepped up production in India to beat U.S. President Donald Trump's tariffs, shipping some 600 tons of iPhones worth $2 billion to the United States in March. The shipments from India marked a record for both its contractors Tata and Foxconn, with the latter alone accounting for smartphones worth $1.3 billion, Reuters reported last week.\n",
    "In April, the U.S. administration imposed 26% duties on imports from India, much lower than the more than 100% China was facing at the time. Washington has since paused most duties for three months, except for China.\n",
    "Trump's administration has since signalled openness to de-escalating the trade war between the world's two largest economies that has raised fears of recession.\n",
    "The Financial Times first reported about Apple's plan on Friday.\n",
    "As Apple diversifies its manufacturing beyond China, it has positioned India for a critical role. Foxconn and Tata, its two main suppliers there, have three factories in all, with two more being built.\n",
    "\"\"\""
   ]
  },
  {
   "cell_type": "code",
   "execution_count": 4,
   "metadata": {},
   "outputs": [],
   "source": [
    "summary = summarizer(text, max_length=130, min_length=30, do_sample=False)"
   ]
  },
  {
   "cell_type": "code",
   "execution_count": 5,
   "metadata": {},
   "outputs": [
    {
     "data": {
      "text/plain": [
       "[{'summary_text': 'apple aims to make most of its iPhones sold in the united states at factories in India by 2026 . the tech giant is holding urgent talks with contract manufacturers Foxconn and Tata . apple sells over 60 million iPhones in the u.s. annually with roughly 80% of them made in china .'}]"
      ]
     },
     "execution_count": 5,
     "metadata": {},
     "output_type": "execute_result"
    }
   ],
   "source": [
    "summary"
   ]
  },
  {
   "cell_type": "code",
   "execution_count": null,
   "metadata": {},
   "outputs": [],
   "source": [
    "print(summary[0]['summary_text'])"
   ]
  },
  {
   "cell_type": "code",
   "execution_count": 8,
   "metadata": {},
   "outputs": [
    {
     "name": "stdout",
     "output_type": "stream",
     "text": [
      "Apple aims to make most of its iphones sold in the united states at factories in india by 2026.\n",
      "The tech giant is holding urgent talks with contract manufacturers foxconn and tata.\n",
      "Apple sells over 60 million iphones in the u.s.\n",
      "Annually with roughly 80% of them made in china ..\n"
     ]
    }
   ],
   "source": [
    "sentences = summary[0]['summary_text'].split('. ')\n",
    "for sentence in sentences:\n",
    "    print(sentence.strip().capitalize() + '.')"
   ]
  }
 ],
 "metadata": {
  "kernelspec": {
   "display_name": "Python 3",
   "language": "python",
   "name": "python3"
  },
  "language_info": {
   "codemirror_mode": {
    "name": "ipython",
    "version": 3
   },
   "file_extension": ".py",
   "mimetype": "text/x-python",
   "name": "python",
   "nbconvert_exporter": "python",
   "pygments_lexer": "ipython3",
   "version": "3.12.7"
  }
 },
 "nbformat": 4,
 "nbformat_minor": 2
}
