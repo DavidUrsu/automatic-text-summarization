{
 "cells": [
  {
   "cell_type": "markdown",
   "id": "f18bd802",
   "metadata": {},
   "source": [
    "# Abstractive text summarization using transformers"
   ]
  },
  {
   "cell_type": "code",
   "execution_count": null,
   "id": "4a6b2599",
   "metadata": {},
   "outputs": [],
   "source": [
    "text = \"\"\"\n",
    "BENGALURU, April 25 (Reuters) - Apple (AAPL.O), opens new tab aims to make most of its iPhones sold in the United States at factories in India by the end of 2026, and is speeding up those plans to navigate potentially higher tariffs in China, its main manufacturing base, a source told Reuters.\n",
    "The U.S. tech giant is holding urgent talks with contract manufacturers Foxconn (2317.TW), opens new tab and Tata to achieve that goal, the person, who declined to be named as the planning process is confidential, said on Friday.\n",
    "Apple and Foxconn did not immediately respond to requests for comment, while Tata declined to comment.\n",
    "Apple sells over 60 million iPhones in the U.S. annually with roughly 80% of them made in China currently.\n",
    "Prime Minister Narendra Modi has in recent years promoted India as a smartphone manufacturing hub, but higher duties on importing mobile phone parts compared to many other countries means it is still expensive for companies to produce in India.\n",
    "For iPhones, manufacturing costs in India are 5-8% higher than in China, with the difference rising to as much as 10% in some cases, the source said.\n",
    "Apple has already stepped up production in India to beat U.S. President Donald Trump's tariffs, shipping some 600 tons of iPhones worth $2 billion to the United States in March. The shipments from India marked a record for both its contractors Tata and Foxconn, with the latter alone accounting for smartphones worth $1.3 billion, Reuters reported last week.\n",
    "In April, the U.S. administration imposed 26% duties on imports from India, much lower than the more than 100% China was facing at the time. Washington has since paused most duties for three months, except for China.\n",
    "Trump's administration has since signalled openness to de-escalating the trade war between the world's two largest economies that has raised fears of recession.\n",
    "The Financial Times first reported about Apple's plan on Friday.\n",
    "As Apple diversifies its manufacturing beyond China, it has positioned India for a critical role. Foxconn and Tata, its two main suppliers there, have three factories in all, with two more being built.\n",
    "\"\"\""
   ]
  }
 ],
 "metadata": {
  "language_info": {
   "name": "python"
  }
 },
 "nbformat": 4,
 "nbformat_minor": 5
}
